{
 "cells": [
  {
   "cell_type": "code",
   "execution_count": 1,
   "id": "f4f0b777",
   "metadata": {
    "_cell_guid": "b1076dfc-b9ad-4769-8c92-a6c4dae69d19",
    "_uuid": "8f2839f25d086af736a60e9eeb907d3b93b6e0e5",
    "execution": {
     "iopub.execute_input": "2022-11-13T20:06:12.119081Z",
     "iopub.status.busy": "2022-11-13T20:06:12.118550Z",
     "iopub.status.idle": "2022-11-13T20:06:13.394975Z",
     "shell.execute_reply": "2022-11-13T20:06:13.393889Z"
    },
    "papermill": {
     "duration": 1.284743,
     "end_time": "2022-11-13T20:06:13.397049",
     "exception": false,
     "start_time": "2022-11-13T20:06:12.112306",
     "status": "completed"
    },
    "tags": []
   },
   "outputs": [
    {
     "name": "stdout",
     "output_type": "stream",
     "text": [
      "/kaggle/input/clasif-posturas-mano/data_train.csv\n",
      "/kaggle/input/clasif-posturas-mano/data_test.csv\n",
      "/kaggle/input/clasif-posturas-mano/samplesubmission.csv\n"
     ]
    }
   ],
   "source": [
    "# This Python 3 environment comes with many helpful analytics libraries installed\n",
    "# It is defined by the kaggle/python Docker image: https://github.com/kaggle/docker-python\n",
    "# For example, here's several helpful packages to load\n",
    "\n",
    "import numpy as np # linear algebra\n",
    "import pandas as pd # data processing, CSV file I/O (e.g. pd.read_csv)\n",
    "import matplotlib.pyplot as plt\n",
    "import matplotlib.pyplot as plt\n",
    "\n",
    "\n",
    "from sklearn.ensemble import RandomForestClassifier\n",
    "from sklearn.model_selection import cross_val_score\n",
    "from sklearn.metrics import classification_report\n",
    "import xgboost as xgb\n",
    "from xgboost import XGBClassifier\n",
    "\n",
    "\n",
    "\n",
    "# Input data files are available in the read-only \"../input/\" directory\n",
    "# For example, running this (by clicking run or pressing Shift+Enter) will list all files under the input directory\n",
    "\n",
    "import os\n",
    "for dirname, _, filenames in os.walk('/kaggle/input'):\n",
    "    for filename in filenames:\n",
    "        print(os.path.join(dirname, filename))\n",
    "\n",
    "# You can write up to 20GB to the current directory (/kaggle/working/) that gets preserved as output when you create a version using \"Save & Run All\" \n",
    "# You can also write temporary files to /kaggle/temp/, but they won't be saved outside of the current session"
   ]
  },
  {
   "cell_type": "code",
   "execution_count": 2,
   "id": "c639ffa5",
   "metadata": {
    "execution": {
     "iopub.execute_input": "2022-11-13T20:06:13.407130Z",
     "iopub.status.busy": "2022-11-13T20:06:13.406749Z",
     "iopub.status.idle": "2022-11-13T20:06:14.354874Z",
     "shell.execute_reply": "2022-11-13T20:06:14.354155Z"
    },
    "papermill": {
     "duration": 0.95572,
     "end_time": "2022-11-13T20:06:14.357107",
     "exception": false,
     "start_time": "2022-11-13T20:06:13.401387",
     "status": "completed"
    },
    "tags": []
   },
   "outputs": [],
   "source": [
    "data_train=pd.read_csv('../input/clasif-posturas-mano/data_train.csv')\n",
    "data_test=pd.read_csv('../input/clasif-posturas-mano/data_test.csv')\n",
    "sample_submission = pd.read_csv('../input/clasif-posturas-mano/samplesubmission.csv')"
   ]
  },
  {
   "cell_type": "code",
   "execution_count": 3,
   "id": "e12eed03",
   "metadata": {
    "execution": {
     "iopub.execute_input": "2022-11-13T20:06:14.367513Z",
     "iopub.status.busy": "2022-11-13T20:06:14.366579Z",
     "iopub.status.idle": "2022-11-13T20:06:14.417986Z",
     "shell.execute_reply": "2022-11-13T20:06:14.416889Z"
    },
    "papermill": {
     "duration": 0.05837,
     "end_time": "2022-11-13T20:06:14.419932",
     "exception": false,
     "start_time": "2022-11-13T20:06:14.361562",
     "status": "completed"
    },
    "tags": []
   },
   "outputs": [
    {
     "data": {
      "text/html": [
       "<div>\n",
       "<style scoped>\n",
       "    .dataframe tbody tr th:only-of-type {\n",
       "        vertical-align: middle;\n",
       "    }\n",
       "\n",
       "    .dataframe tbody tr th {\n",
       "        vertical-align: top;\n",
       "    }\n",
       "\n",
       "    .dataframe thead th {\n",
       "        text-align: right;\n",
       "    }\n",
       "</style>\n",
       "<table border=\"1\" class=\"dataframe\">\n",
       "  <thead>\n",
       "    <tr style=\"text-align: right;\">\n",
       "      <th></th>\n",
       "      <th>User</th>\n",
       "      <th>X0</th>\n",
       "      <th>Y0</th>\n",
       "      <th>Z0</th>\n",
       "      <th>X1</th>\n",
       "      <th>Y1</th>\n",
       "      <th>Z1</th>\n",
       "      <th>X2</th>\n",
       "      <th>Y2</th>\n",
       "      <th>Z2</th>\n",
       "      <th>...</th>\n",
       "      <th>Z8</th>\n",
       "      <th>X9</th>\n",
       "      <th>Y9</th>\n",
       "      <th>Z9</th>\n",
       "      <th>X10</th>\n",
       "      <th>Y10</th>\n",
       "      <th>Z10</th>\n",
       "      <th>X11</th>\n",
       "      <th>Y11</th>\n",
       "      <th>Z11</th>\n",
       "    </tr>\n",
       "  </thead>\n",
       "  <tbody>\n",
       "    <tr>\n",
       "      <th>0</th>\n",
       "      <td>14</td>\n",
       "      <td>16.303850</td>\n",
       "      <td>85.045554</td>\n",
       "      <td>-64.021761</td>\n",
       "      <td>28.742703</td>\n",
       "      <td>-1.581706</td>\n",
       "      <td>-0.411562</td>\n",
       "      <td>-1.703684</td>\n",
       "      <td>79.453834</td>\n",
       "      <td>-54.980910</td>\n",
       "      <td>...</td>\n",
       "      <td>-999.000000</td>\n",
       "      <td>-999.000000</td>\n",
       "      <td>-999.000000</td>\n",
       "      <td>-999.000000</td>\n",
       "      <td>-999.000000</td>\n",
       "      <td>-999.000000</td>\n",
       "      <td>-999.00000</td>\n",
       "      <td>-999.0</td>\n",
       "      <td>-999.0</td>\n",
       "      <td>-999.0</td>\n",
       "    </tr>\n",
       "    <tr>\n",
       "      <th>1</th>\n",
       "      <td>14</td>\n",
       "      <td>-0.810012</td>\n",
       "      <td>121.965695</td>\n",
       "      <td>33.520061</td>\n",
       "      <td>-10.024520</td>\n",
       "      <td>80.890313</td>\n",
       "      <td>13.934838</td>\n",
       "      <td>66.938737</td>\n",
       "      <td>139.870441</td>\n",
       "      <td>8.232298</td>\n",
       "      <td>...</td>\n",
       "      <td>-47.313530</td>\n",
       "      <td>55.944924</td>\n",
       "      <td>98.426897</td>\n",
       "      <td>-8.946855</td>\n",
       "      <td>60.575006</td>\n",
       "      <td>38.369045</td>\n",
       "      <td>-53.29325</td>\n",
       "      <td>-999.0</td>\n",
       "      <td>-999.0</td>\n",
       "      <td>-999.0</td>\n",
       "    </tr>\n",
       "    <tr>\n",
       "      <th>2</th>\n",
       "      <td>11</td>\n",
       "      <td>54.505324</td>\n",
       "      <td>131.279733</td>\n",
       "      <td>13.612488</td>\n",
       "      <td>25.075243</td>\n",
       "      <td>101.082240</td>\n",
       "      <td>3.792827</td>\n",
       "      <td>93.631120</td>\n",
       "      <td>29.151855</td>\n",
       "      <td>-58.742728</td>\n",
       "      <td>...</td>\n",
       "      <td>-999.000000</td>\n",
       "      <td>-999.000000</td>\n",
       "      <td>-999.000000</td>\n",
       "      <td>-999.000000</td>\n",
       "      <td>-999.000000</td>\n",
       "      <td>-999.000000</td>\n",
       "      <td>-999.00000</td>\n",
       "      <td>-999.0</td>\n",
       "      <td>-999.0</td>\n",
       "      <td>-999.0</td>\n",
       "    </tr>\n",
       "    <tr>\n",
       "      <th>3</th>\n",
       "      <td>11</td>\n",
       "      <td>46.436653</td>\n",
       "      <td>100.607077</td>\n",
       "      <td>-30.582205</td>\n",
       "      <td>26.706400</td>\n",
       "      <td>100.640787</td>\n",
       "      <td>-26.132694</td>\n",
       "      <td>76.843962</td>\n",
       "      <td>53.134633</td>\n",
       "      <td>-54.553725</td>\n",
       "      <td>...</td>\n",
       "      <td>-999.000000</td>\n",
       "      <td>-999.000000</td>\n",
       "      <td>-999.000000</td>\n",
       "      <td>-999.000000</td>\n",
       "      <td>-999.000000</td>\n",
       "      <td>-999.000000</td>\n",
       "      <td>-999.00000</td>\n",
       "      <td>-999.0</td>\n",
       "      <td>-999.0</td>\n",
       "      <td>-999.0</td>\n",
       "    </tr>\n",
       "    <tr>\n",
       "      <th>4</th>\n",
       "      <td>2</td>\n",
       "      <td>80.701573</td>\n",
       "      <td>39.976647</td>\n",
       "      <td>-71.285619</td>\n",
       "      <td>40.116999</td>\n",
       "      <td>70.716270</td>\n",
       "      <td>-59.981909</td>\n",
       "      <td>62.016277</td>\n",
       "      <td>62.435918</td>\n",
       "      <td>-56.895893</td>\n",
       "      <td>...</td>\n",
       "      <td>-999.000000</td>\n",
       "      <td>-999.000000</td>\n",
       "      <td>-999.000000</td>\n",
       "      <td>-999.000000</td>\n",
       "      <td>-999.000000</td>\n",
       "      <td>-999.000000</td>\n",
       "      <td>-999.00000</td>\n",
       "      <td>-999.0</td>\n",
       "      <td>-999.0</td>\n",
       "      <td>-999.0</td>\n",
       "    </tr>\n",
       "    <tr>\n",
       "      <th>...</th>\n",
       "      <td>...</td>\n",
       "      <td>...</td>\n",
       "      <td>...</td>\n",
       "      <td>...</td>\n",
       "      <td>...</td>\n",
       "      <td>...</td>\n",
       "      <td>...</td>\n",
       "      <td>...</td>\n",
       "      <td>...</td>\n",
       "      <td>...</td>\n",
       "      <td>...</td>\n",
       "      <td>...</td>\n",
       "      <td>...</td>\n",
       "      <td>...</td>\n",
       "      <td>...</td>\n",
       "      <td>...</td>\n",
       "      <td>...</td>\n",
       "      <td>...</td>\n",
       "      <td>...</td>\n",
       "      <td>...</td>\n",
       "      <td>...</td>\n",
       "    </tr>\n",
       "    <tr>\n",
       "      <th>35138</th>\n",
       "      <td>10</td>\n",
       "      <td>52.139085</td>\n",
       "      <td>-6.172711</td>\n",
       "      <td>-83.063769</td>\n",
       "      <td>35.127190</td>\n",
       "      <td>75.048248</td>\n",
       "      <td>-59.102349</td>\n",
       "      <td>67.372932</td>\n",
       "      <td>31.076155</td>\n",
       "      <td>-88.565691</td>\n",
       "      <td>...</td>\n",
       "      <td>-999.000000</td>\n",
       "      <td>-999.000000</td>\n",
       "      <td>-999.000000</td>\n",
       "      <td>-999.000000</td>\n",
       "      <td>-999.000000</td>\n",
       "      <td>-999.000000</td>\n",
       "      <td>-999.00000</td>\n",
       "      <td>-999.0</td>\n",
       "      <td>-999.0</td>\n",
       "      <td>-999.0</td>\n",
       "    </tr>\n",
       "    <tr>\n",
       "      <th>35139</th>\n",
       "      <td>7</td>\n",
       "      <td>80.843513</td>\n",
       "      <td>-27.038662</td>\n",
       "      <td>-42.184807</td>\n",
       "      <td>102.515384</td>\n",
       "      <td>-3.885654</td>\n",
       "      <td>-35.619874</td>\n",
       "      <td>70.737404</td>\n",
       "      <td>66.520162</td>\n",
       "      <td>-8.680220</td>\n",
       "      <td>...</td>\n",
       "      <td>-999.000000</td>\n",
       "      <td>-999.000000</td>\n",
       "      <td>-999.000000</td>\n",
       "      <td>-999.000000</td>\n",
       "      <td>-999.000000</td>\n",
       "      <td>-999.000000</td>\n",
       "      <td>-999.00000</td>\n",
       "      <td>-999.0</td>\n",
       "      <td>-999.0</td>\n",
       "      <td>-999.0</td>\n",
       "    </tr>\n",
       "    <tr>\n",
       "      <th>35140</th>\n",
       "      <td>6</td>\n",
       "      <td>78.266695</td>\n",
       "      <td>86.666011</td>\n",
       "      <td>-23.871966</td>\n",
       "      <td>52.053413</td>\n",
       "      <td>95.635896</td>\n",
       "      <td>-2.835111</td>\n",
       "      <td>49.903999</td>\n",
       "      <td>142.553778</td>\n",
       "      <td>-35.240655</td>\n",
       "      <td>...</td>\n",
       "      <td>-31.083657</td>\n",
       "      <td>76.419721</td>\n",
       "      <td>53.009372</td>\n",
       "      <td>-83.950008</td>\n",
       "      <td>-999.000000</td>\n",
       "      <td>-999.000000</td>\n",
       "      <td>-999.00000</td>\n",
       "      <td>-999.0</td>\n",
       "      <td>-999.0</td>\n",
       "      <td>-999.0</td>\n",
       "    </tr>\n",
       "    <tr>\n",
       "      <th>35141</th>\n",
       "      <td>12</td>\n",
       "      <td>10.357343</td>\n",
       "      <td>85.235507</td>\n",
       "      <td>-42.921405</td>\n",
       "      <td>-10.809778</td>\n",
       "      <td>81.262534</td>\n",
       "      <td>-38.131250</td>\n",
       "      <td>48.823006</td>\n",
       "      <td>45.540894</td>\n",
       "      <td>-94.294336</td>\n",
       "      <td>...</td>\n",
       "      <td>-999.000000</td>\n",
       "      <td>-999.000000</td>\n",
       "      <td>-999.000000</td>\n",
       "      <td>-999.000000</td>\n",
       "      <td>-999.000000</td>\n",
       "      <td>-999.000000</td>\n",
       "      <td>-999.00000</td>\n",
       "      <td>-999.0</td>\n",
       "      <td>-999.0</td>\n",
       "      <td>-999.0</td>\n",
       "    </tr>\n",
       "    <tr>\n",
       "      <th>35142</th>\n",
       "      <td>10</td>\n",
       "      <td>8.459222</td>\n",
       "      <td>74.464074</td>\n",
       "      <td>-52.570218</td>\n",
       "      <td>70.189570</td>\n",
       "      <td>31.420406</td>\n",
       "      <td>-86.118081</td>\n",
       "      <td>55.260555</td>\n",
       "      <td>-5.184203</td>\n",
       "      <td>-81.040467</td>\n",
       "      <td>...</td>\n",
       "      <td>-999.000000</td>\n",
       "      <td>-999.000000</td>\n",
       "      <td>-999.000000</td>\n",
       "      <td>-999.000000</td>\n",
       "      <td>-999.000000</td>\n",
       "      <td>-999.000000</td>\n",
       "      <td>-999.00000</td>\n",
       "      <td>-999.0</td>\n",
       "      <td>-999.0</td>\n",
       "      <td>-999.0</td>\n",
       "    </tr>\n",
       "  </tbody>\n",
       "</table>\n",
       "<p>35143 rows × 37 columns</p>\n",
       "</div>"
      ],
      "text/plain": [
       "       User         X0          Y0         Z0          X1          Y1  \\\n",
       "0        14  16.303850   85.045554 -64.021761   28.742703   -1.581706   \n",
       "1        14  -0.810012  121.965695  33.520061  -10.024520   80.890313   \n",
       "2        11  54.505324  131.279733  13.612488   25.075243  101.082240   \n",
       "3        11  46.436653  100.607077 -30.582205   26.706400  100.640787   \n",
       "4         2  80.701573   39.976647 -71.285619   40.116999   70.716270   \n",
       "...     ...        ...         ...        ...         ...         ...   \n",
       "35138    10  52.139085   -6.172711 -83.063769   35.127190   75.048248   \n",
       "35139     7  80.843513  -27.038662 -42.184807  102.515384   -3.885654   \n",
       "35140     6  78.266695   86.666011 -23.871966   52.053413   95.635896   \n",
       "35141    12  10.357343   85.235507 -42.921405  -10.809778   81.262534   \n",
       "35142    10   8.459222   74.464074 -52.570218   70.189570   31.420406   \n",
       "\n",
       "              Z1         X2          Y2         Z2  ...          Z8  \\\n",
       "0      -0.411562  -1.703684   79.453834 -54.980910  ... -999.000000   \n",
       "1      13.934838  66.938737  139.870441   8.232298  ...  -47.313530   \n",
       "2       3.792827  93.631120   29.151855 -58.742728  ... -999.000000   \n",
       "3     -26.132694  76.843962   53.134633 -54.553725  ... -999.000000   \n",
       "4     -59.981909  62.016277   62.435918 -56.895893  ... -999.000000   \n",
       "...          ...        ...         ...        ...  ...         ...   \n",
       "35138 -59.102349  67.372932   31.076155 -88.565691  ... -999.000000   \n",
       "35139 -35.619874  70.737404   66.520162  -8.680220  ... -999.000000   \n",
       "35140  -2.835111  49.903999  142.553778 -35.240655  ...  -31.083657   \n",
       "35141 -38.131250  48.823006   45.540894 -94.294336  ... -999.000000   \n",
       "35142 -86.118081  55.260555   -5.184203 -81.040467  ... -999.000000   \n",
       "\n",
       "               X9          Y9          Z9         X10         Y10        Z10  \\\n",
       "0     -999.000000 -999.000000 -999.000000 -999.000000 -999.000000 -999.00000   \n",
       "1       55.944924   98.426897   -8.946855   60.575006   38.369045  -53.29325   \n",
       "2     -999.000000 -999.000000 -999.000000 -999.000000 -999.000000 -999.00000   \n",
       "3     -999.000000 -999.000000 -999.000000 -999.000000 -999.000000 -999.00000   \n",
       "4     -999.000000 -999.000000 -999.000000 -999.000000 -999.000000 -999.00000   \n",
       "...           ...         ...         ...         ...         ...        ...   \n",
       "35138 -999.000000 -999.000000 -999.000000 -999.000000 -999.000000 -999.00000   \n",
       "35139 -999.000000 -999.000000 -999.000000 -999.000000 -999.000000 -999.00000   \n",
       "35140   76.419721   53.009372  -83.950008 -999.000000 -999.000000 -999.00000   \n",
       "35141 -999.000000 -999.000000 -999.000000 -999.000000 -999.000000 -999.00000   \n",
       "35142 -999.000000 -999.000000 -999.000000 -999.000000 -999.000000 -999.00000   \n",
       "\n",
       "         X11    Y11    Z11  \n",
       "0     -999.0 -999.0 -999.0  \n",
       "1     -999.0 -999.0 -999.0  \n",
       "2     -999.0 -999.0 -999.0  \n",
       "3     -999.0 -999.0 -999.0  \n",
       "4     -999.0 -999.0 -999.0  \n",
       "...      ...    ...    ...  \n",
       "35138 -999.0 -999.0 -999.0  \n",
       "35139 -999.0 -999.0 -999.0  \n",
       "35140 -999.0 -999.0 -999.0  \n",
       "35141 -999.0 -999.0 -999.0  \n",
       "35142 -999.0 -999.0 -999.0  \n",
       "\n",
       "[35143 rows x 37 columns]"
      ]
     },
     "execution_count": 3,
     "metadata": {},
     "output_type": "execute_result"
    }
   ],
   "source": [
    "y = data_train['Class']\n",
    "X = data_train.drop(['Class', 'User'], axis=1)\n",
    "data_test"
   ]
  },
  {
   "cell_type": "markdown",
   "id": "09517e92",
   "metadata": {
    "papermill": {
     "duration": 0.004123,
     "end_time": "2022-11-13T20:06:14.428729",
     "exception": false,
     "start_time": "2022-11-13T20:06:14.424606",
     "status": "completed"
    },
    "tags": []
   },
   "source": [
    "# Baseline model"
   ]
  },
  {
   "cell_type": "code",
   "execution_count": 4,
   "id": "7a112b9d",
   "metadata": {
    "execution": {
     "iopub.execute_input": "2022-11-13T20:06:14.439330Z",
     "iopub.status.busy": "2022-11-13T20:06:14.438950Z",
     "iopub.status.idle": "2022-11-13T20:06:14.443177Z",
     "shell.execute_reply": "2022-11-13T20:06:14.442196Z"
    },
    "papermill": {
     "duration": 0.011872,
     "end_time": "2022-11-13T20:06:14.444966",
     "exception": false,
     "start_time": "2022-11-13T20:06:14.433094",
     "status": "completed"
    },
    "tags": []
   },
   "outputs": [],
   "source": [
    "#base_xgboost = XGBClassifier(random_state=0).fit(X, y) \n",
    "#scores = cross_val_score(base_xgboost, X, y, cv=5)\n",
    "#print(f'Mean accuracy: {np.mean(scores):.4f} (std: +/- {np.std(scores):.4f})')\n"
   ]
  },
  {
   "cell_type": "code",
   "execution_count": 5,
   "id": "4522eb1d",
   "metadata": {
    "execution": {
     "iopub.execute_input": "2022-11-13T20:06:14.455250Z",
     "iopub.status.busy": "2022-11-13T20:06:14.454919Z",
     "iopub.status.idle": "2022-11-13T20:06:51.924084Z",
     "shell.execute_reply": "2022-11-13T20:06:51.922673Z"
    },
    "papermill": {
     "duration": 37.47806,
     "end_time": "2022-11-13T20:06:51.927358",
     "exception": false,
     "start_time": "2022-11-13T20:06:14.449298",
     "status": "completed"
    },
    "tags": []
   },
   "outputs": [
    {
     "data": {
      "image/png": "[encoded data removed]",
      "text/plain": [
       "<Figure size 432x576 with 1 Axes>"
      ]
     },
     "metadata": {
      "needs_background": "light"
     },
     "output_type": "display_data"
    }
   ],
   "source": [
    "# Entreno un modelo con los nuevos datos, para poder ver la importancia de cada variable\n",
    "base_xgboost = XGBClassifier(random_state=0).fit(X, y)\n",
    "\n",
    "#plot feature importance from the base_rf model, sorted by importance\n",
    "importances = base_xgboost.feature_importances_\n",
    "indices = np.argsort(importances)\n",
    "\n",
    "plt.figure(figsize=(6, 8))\n",
    "plt.barh(range(X.shape[1]), importances[indices])\n",
    "plt.yticks(range(X.shape[1]), X.columns[indices], fontsize=6)\n",
    "plt.title(\"Feature importances\")\n",
    "plt.show();"
   ]
  },
  {
   "cell_type": "markdown",
   "id": "21ed08b8",
   "metadata": {
    "papermill": {
     "duration": 0.004414,
     "end_time": "2022-11-13T20:06:51.936538",
     "exception": false,
     "start_time": "2022-11-13T20:06:51.932124",
     "status": "completed"
    },
    "tags": []
   },
   "source": [
    "# Preprocesamiento"
   ]
  },
  {
   "cell_type": "code",
   "execution_count": 6,
   "id": "cda58313",
   "metadata": {
    "execution": {
     "iopub.execute_input": "2022-11-13T20:06:51.948328Z",
     "iopub.status.busy": "2022-11-13T20:06:51.947183Z",
     "iopub.status.idle": "2022-11-13T20:06:51.960021Z",
     "shell.execute_reply": "2022-11-13T20:06:51.959006Z"
    },
    "papermill": {
     "duration": 0.020629,
     "end_time": "2022-11-13T20:06:51.961920",
     "exception": false,
     "start_time": "2022-11-13T20:06:51.941291",
     "status": "completed"
    },
    "tags": []
   },
   "outputs": [],
   "source": [
    "X = X.drop(['X11', 'Y11', 'Z11'], axis=1)\n",
    "data_test = data_test.drop(['X11', 'Y11', 'Z11'], axis=1)"
   ]
  },
  {
   "cell_type": "markdown",
   "id": "d1f9d2b8",
   "metadata": {
    "papermill": {
     "duration": 0.004371,
     "end_time": "2022-11-13T20:06:51.971059",
     "exception": false,
     "start_time": "2022-11-13T20:06:51.966688",
     "status": "completed"
    },
    "tags": []
   },
   "source": [
    "# Features creation"
   ]
  },
  {
   "cell_type": "code",
   "execution_count": 7,
   "id": "2d43c797",
   "metadata": {
    "execution": {
     "iopub.execute_input": "2022-11-13T20:06:51.982834Z",
     "iopub.status.busy": "2022-11-13T20:06:51.982493Z",
     "iopub.status.idle": "2022-11-13T20:06:52.045207Z",
     "shell.execute_reply": "2022-11-13T20:06:52.044205Z"
    },
    "papermill": {
     "duration": 0.070809,
     "end_time": "2022-11-13T20:06:52.047530",
     "exception": false,
     "start_time": "2022-11-13T20:06:51.976721",
     "status": "completed"
    },
    "tags": []
   },
   "outputs": [],
   "source": [
    "# Estos son los nuevos datos de entrenamiento\n",
    "X_new = X.copy()\n",
    "# Construyo 11 nuevos valores con la longitud de cada vector\n",
    "for i in range(0, 11):\n",
    "    X_new[f'L{i}'] = np.linalg.norm(X_new[[f'X{i}', f'Y{i}', f'Z{i}']].values, axis=1)"
   ]
  },
  {
   "cell_type": "code",
   "execution_count": 8,
   "id": "f41fc716",
   "metadata": {
    "execution": {
     "iopub.execute_input": "2022-11-13T20:06:52.058356Z",
     "iopub.status.busy": "2022-11-13T20:06:52.058019Z",
     "iopub.status.idle": "2022-11-13T20:06:52.101485Z",
     "shell.execute_reply": "2022-11-13T20:06:52.100177Z"
    },
    "papermill": {
     "duration": 0.051445,
     "end_time": "2022-11-13T20:06:52.103798",
     "exception": false,
     "start_time": "2022-11-13T20:06:52.052353",
     "status": "completed"
    },
    "tags": []
   },
   "outputs": [],
   "source": [
    "# Estos son los nuevos datos de entrenamiento\n",
    "data_new = data_test.copy()\n",
    "# Construyo 11 nuevos valores con la longitud de cada vector\n",
    "for i in range(0, 11):\n",
    "    data_new[f'L{i}'] = np.linalg.norm(data_new[[f'X{i}', f'Y{i}', f'Z{i}']].values, axis=1)"
   ]
  },
  {
   "cell_type": "markdown",
   "id": "37772e6d",
   "metadata": {
    "papermill": {
     "duration": 0.004357,
     "end_time": "2022-11-13T20:06:52.113122",
     "exception": false,
     "start_time": "2022-11-13T20:06:52.108765",
     "status": "completed"
    },
    "tags": []
   },
   "source": [
    "Arriba se muestra un plot con la influencia que tiene cada variable y se ha optado por eliminar X11,Y11,Z11."
   ]
  },
  {
   "cell_type": "code",
   "execution_count": 9,
   "id": "43249a14",
   "metadata": {
    "execution": {
     "iopub.execute_input": "2022-11-13T20:06:52.123996Z",
     "iopub.status.busy": "2022-11-13T20:06:52.123406Z",
     "iopub.status.idle": "2022-11-13T20:18:36.646931Z",
     "shell.execute_reply": "2022-11-13T20:18:36.646201Z"
    },
    "papermill": {
     "duration": 704.534294,
     "end_time": "2022-11-13T20:18:36.651870",
     "exception": false,
     "start_time": "2022-11-13T20:06:52.117576",
     "status": "completed"
    },
    "tags": []
   },
   "outputs": [
    {
     "name": "stdout",
     "output_type": "stream",
     "text": [
      "Scores: [0.99487836 0.99499476 0.99441211 0.99476135 0.99394645]\n",
      "Mean accuracy: 0.9946 (std: +/- 0.0004)\n"
     ]
    }
   ],
   "source": [
    "xgb_cv = XGBClassifier(n_estimators=1000,objective = 'multi:softmax')\n",
    "record_scores = cross_val_score(xgb_cv, X_new, y,cv=5, scoring = \"accuracy\")\n",
    "print(\"Scores:\", record_scores)\n",
    "print(f'Mean accuracy: {np.mean(record_scores):.4f} (std: +/- {np.std(record_scores):.4f})')"
   ]
  },
  {
   "cell_type": "code",
   "execution_count": 10,
   "id": "90067f67",
   "metadata": {
    "execution": {
     "iopub.execute_input": "2022-11-13T20:18:36.662649Z",
     "iopub.status.busy": "2022-11-13T20:18:36.662284Z",
     "iopub.status.idle": "2022-11-13T20:21:40.775854Z",
     "shell.execute_reply": "2022-11-13T20:21:40.775188Z"
    },
    "papermill": {
     "duration": 184.12519,
     "end_time": "2022-11-13T20:21:40.781728",
     "exception": false,
     "start_time": "2022-11-13T20:18:36.656538",
     "status": "completed"
    },
    "tags": []
   },
   "outputs": [
    {
     "data": {
      "text/plain": [
       "XGBClassifier(base_score=0.5, booster='gbtree', callbacks=None,\n",
       "              colsample_bylevel=1, colsample_bynode=1, colsample_bytree=1,\n",
       "              early_stopping_rounds=None, enable_categorical=False,\n",
       "              eval_metric=None, gamma=0, gpu_id=-1, grow_policy='depthwise',\n",
       "              importance_type=None, interaction_constraints='',\n",
       "              learning_rate=0.300000012, max_bin=256, max_cat_to_onehot=4,\n",
       "              max_delta_step=0, max_depth=6, max_leaves=0, min_child_weight=1,\n",
       "              missing=nan, monotone_constraints='()', n_estimators=1000,\n",
       "              n_jobs=0, num_parallel_tree=1, objective='multi:softmax',\n",
       "              predictor='auto', random_state=0, reg_alpha=0, ...)"
      ]
     },
     "execution_count": 10,
     "metadata": {},
     "output_type": "execute_result"
    }
   ],
   "source": [
    "xgb_cv.fit(X_new,y)"
   ]
  },
  {
   "cell_type": "code",
   "execution_count": 11,
   "id": "d2cdcc3f",
   "metadata": {
    "execution": {
     "iopub.execute_input": "2022-11-13T20:21:40.792820Z",
     "iopub.status.busy": "2022-11-13T20:21:40.792320Z",
     "iopub.status.idle": "2022-11-13T20:21:41.479924Z",
     "shell.execute_reply": "2022-11-13T20:21:41.479149Z"
    },
    "papermill": {
     "duration": 0.695883,
     "end_time": "2022-11-13T20:21:41.482270",
     "exception": false,
     "start_time": "2022-11-13T20:21:40.786387",
     "status": "completed"
    },
    "tags": []
   },
   "outputs": [],
   "source": [
    "from sklearn import metrics\n",
    "pred = xgb_cv.predict(data_new.drop('User',axis = 1))\n"
   ]
  },
  {
   "cell_type": "code",
   "execution_count": 12,
   "id": "e662cce3",
   "metadata": {
    "execution": {
     "iopub.execute_input": "2022-11-13T20:21:41.495240Z",
     "iopub.status.busy": "2022-11-13T20:21:41.494720Z",
     "iopub.status.idle": "2022-11-13T20:21:41.499535Z",
     "shell.execute_reply": "2022-11-13T20:21:41.498945Z"
    },
    "papermill": {
     "duration": 0.012708,
     "end_time": "2022-11-13T20:21:41.501149",
     "exception": false,
     "start_time": "2022-11-13T20:21:41.488441",
     "status": "completed"
    },
    "tags": []
   },
   "outputs": [],
   "source": [
    "subm = pd.DataFrame({'Id': np.linspace(0, len(data_test)-1, len(data_test), dtype = 'int'), 'Category': pred})\n"
   ]
  },
  {
   "cell_type": "code",
   "execution_count": 13,
   "id": "f06e59d8",
   "metadata": {
    "execution": {
     "iopub.execute_input": "2022-11-13T20:21:41.512112Z",
     "iopub.status.busy": "2022-11-13T20:21:41.511592Z",
     "iopub.status.idle": "2022-11-13T20:21:41.548880Z",
     "shell.execute_reply": "2022-11-13T20:21:41.547823Z"
    },
    "papermill": {
     "duration": 0.045549,
     "end_time": "2022-11-13T20:21:41.551409",
     "exception": false,
     "start_time": "2022-11-13T20:21:41.505860",
     "status": "completed"
    },
    "tags": []
   },
   "outputs": [],
   "source": [
    "subm.to_csv('submission.csv', index=None)"
   ]
  },
  {
   "cell_type": "code",
   "execution_count": 14,
   "id": "8a8f772d",
   "metadata": {
    "execution": {
     "iopub.execute_input": "2022-11-13T20:21:41.562857Z",
     "iopub.status.busy": "2022-11-13T20:21:41.562521Z",
     "iopub.status.idle": "2022-11-13T20:21:41.568387Z",
     "shell.execute_reply": "2022-11-13T20:21:41.567496Z"
    },
    "papermill": {
     "duration": 0.013613,
     "end_time": "2022-11-13T20:21:41.570157",
     "exception": false,
     "start_time": "2022-11-13T20:21:41.556544",
     "status": "completed"
    },
    "tags": []
   },
   "outputs": [
    {
     "data": {
      "text/plain": [
       "(35143, 2)"
      ]
     },
     "execution_count": 14,
     "metadata": {},
     "output_type": "execute_result"
    }
   ],
   "source": [
    "subm.shape"
   ]
  }
 ],
 "metadata": {
  "kernelspec": {
   "display_name": "Python 3",
   "language": "python",
   "name": "python3"
  },
  "language_info": {
   "codemirror_mode": {
    "name": "ipython",
    "version": 3
   },
   "file_extension": ".py",
   "mimetype": "text/x-python",
   "name": "python",
   "nbconvert_exporter": "python",
   "pygments_lexer": "ipython3",
   "version": "3.7.12"
  },
  "papermill": {
   "default_parameters": {},
   "duration": 938.591409,
   "end_time": "2022-11-13T20:21:42.296397",
   "environment_variables": {},
   "exception": null,
   "input_path": "__notebook__.ipynb",
   "output_path": "__notebook__.ipynb",
   "parameters": {},
   "start_time": "2022-11-13T20:06:03.704988",
   "version": "2.3.4"
  }
 },
 "nbformat": 4,
 "nbformat_minor": 5
}
